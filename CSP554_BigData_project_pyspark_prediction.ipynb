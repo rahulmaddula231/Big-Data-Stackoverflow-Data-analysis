{
  "nbformat": 4,
  "nbformat_minor": 0,
  "metadata": {
    "colab": {
      "name": "CSP554 BigData project pyspark prediction.ipynb",
      "provenance": []
    },
    "kernelspec": {
      "name": "python3",
      "display_name": "Python 3"
    },
    "language_info": {
      "name": "python"
    }
  },
  "cells": [
    {
      "cell_type": "code",
      "source": [
        "import nltk\n",
        "import pyspark\n",
        "import pandas as pd\n",
        "from bs4 import BeautifulSoup\n",
        "from pyspark.ml import Pipeline\n",
        "from pyspark.sql.types import *\n",
        "from pyspark import keyword_only\n",
        "from nltk.corpus import stopwords\n",
        "from pyspark.sql import SQLContext\n",
        "from pyspark.ml import Transformer\n",
        "from pyspark.sql.functions import udf\n",
        "from pyspark.sql.types import StringType\n",
        "from pyspark import SparkConf, SparkContext, SQLContext\n",
        "from pyspark.ml.param.shared import HasInputCol, HasOutputCol\n",
        "from pyspark.ml.classification import LogisticRegression, OneVsRest, RandomForestClassifier\n",
        "from pyspark.ml.feature import IDF, StringIndexer, StopWordsRemover, CountVectorizer, RegexTokenizer, IndexToString\n"
      ],
      "metadata": {
        "id": "XSWc_bB0kcbI"
      },
      "execution_count": null,
      "outputs": []
    },
    {
      "cell_type": "code",
      "source": [
        "sparkschema = StructType([StructField('post', StringType(), True), StructField('tags', StringType(), True)])\n",
        "dataframe = pd.read_csv('postquestions.csv')\n",
        "conf = SparkConf().setAppName(\"test\").setMaster(\"local\")\n",
        "sc = SparkContext(conf=conf)\n",
        "sqlContext = SQLContext(sc) \n",
        "sparkdataframe = sqlContext.createDataFrame(dataframe, sparkschema)\n",
        "sparkdataframe = sparkdataframe.filter(sparkdataframe.tags.isNotNull()) "
      ],
      "metadata": {
        "id": "9tM23ZTXnSM6"
      },
      "execution_count": null,
      "outputs": []
    },
    {
      "cell_type": "code",
      "source": [
        "(train, test) = sparkdataframe.randomSplit((0.80, 0.20), seed = 100)"
      ],
      "metadata": {
        "id": "DYqL4XJen1kI"
      },
      "execution_count": null,
      "outputs": []
    },
    {
      "cell_type": "code",
      "source": [
        "class HTMLTAGREMOVER(T, ICol, OCol):\n",
        "  @keyword_only\n",
        "  def __init__(self, iCol=None, oCol=None): \n",
        "    super(HTMLTAGREMOVER, self).__init__()\n",
        "    kwargs = self._input_kwargs \n",
        "    self.setParams(**kwargs)\n",
        "  @keyword_only\n",
        "  def setParams(self, iCol=None, oCol=None):\n",
        "    kwargs = self._input_kwargs \n",
        "    return self._set(**kwargs)\n",
        "  def _transform(self, dataset):\n",
        "    def cleaingfunction(s):\n",
        "      cleantext = BeautifulSoup(s).text \n",
        "      return cleantext\n",
        "    t = StringType()\n",
        "    icol = dataset[self.getInputCol()]\n",
        "    ocol = self.getOutputCol()\n",
        "    return dataset.withColumn(ocol, udf(cleaingfunction, t)(icol))\n",
        "nltk.download('w')"
      ],
      "metadata": {
        "id": "0wFP-qX6oBoX"
      },
      "execution_count": null,
      "outputs": []
    },
    {
      "cell_type": "code",
      "source": [
        "sw = list(set(w.words('english')))\n",
        "lI = StringIndexer(inputCol=\"tags\", outputCol=\"label\").fit(train) \n",
        "html_tag_remover = HTMLTAGREMOVER(inputCol=\"post\", outputCol=\"untagged_post\") \n",
        "RT = RegexTokenizer(inputCol=html_tag_remover.getOutputCol(), outputCol=\"words\", pattern=\"[^0-9a-z#+_]+\")\n",
        "SR = StopWordsRemover(inputCol=RegexTokenizer.getOutputCol(), outputCol=\"filtered_words\").setStopWords(sw)\n",
        "CV = CountVectorizer(inputCol=SR.getOutputCol(), outputCol=\"countFeatures\", minDF=5)\n",
        "idf = IDF(inputCol=CV.getOutputCol(), outputCol=\"features\")\n",
        "model = RandomForestClassifier(labelCol=\"label\", featuresCol=idf.getOutputCol(), numTrees=80, maxDepth=7)\n",
        "i = IndexToString(inputCol=\"prediction\", outputCol=\"predictedValue\")\n",
        "i.setLabels(lI.labels)\n"
      ],
      "metadata": {
        "id": "r68QUOTa0i7u"
      },
      "execution_count": null,
      "outputs": []
    },
    {
      "cell_type": "code",
      "source": [
        "datapipe = Pipeline(stages=[ lI,html_tag_remover, RT, SR, CV, idf,model, i])"
      ],
      "metadata": {
        "id": "fczLlZx3_uRp"
      },
      "execution_count": null,
      "outputs": []
    },
    {
      "cell_type": "code",
      "source": [
        "randomforesttmodel = datapipe.fit(train)"
      ],
      "metadata": {
        "id": "NfpI6GqoARjw"
      },
      "execution_count": null,
      "outputs": []
    },
    {
      "cell_type": "code",
      "source": [
        "prediction = randomforestmodel.transform(test)"
      ],
      "metadata": {
        "id": "j6LTXGPUCv5Z"
      },
      "execution_count": null,
      "outputs": []
    },
    {
      "cell_type": "code",
      "source": [
        "topd = prediction.toPandas() \n",
        "print(\"the Predictions are: \",topd)\n"
      ],
      "metadata": {
        "id": "1DuDEfGAC8D4"
      },
      "execution_count": null,
      "outputs": []
    },
    {
      "cell_type": "code",
      "source": [
        "MulticlassClassificationEvaluator=0"
      ],
      "metadata": {
        "id": "ccnDFnNzIoZj"
      },
      "execution_count": null,
      "outputs": []
    },
    {
      "cell_type": "code",
      "source": [
        "evaluator = MulticlassClassificationEvaluator(labelCol=\"label\", predictionCol=\"prediction\", metricName=\"f1\") \n",
        "evaluator.evaluate(prediction)"
      ],
      "metadata": {
        "id": "TTyMY83QDTNU"
      },
      "execution_count": null,
      "outputs": []
    }
  ]
}